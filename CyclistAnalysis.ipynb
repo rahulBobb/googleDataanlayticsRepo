{
 "cells": [
  {
   "cell_type": "code",
   "execution_count": 1,
   "id": "daab267f-9d1e-4cbb-bd36-30e2d69c755c",
   "metadata": {},
   "outputs": [],
   "source": [
    "from sqlalchemy import create_engine\n",
    "import pandas as pd\n",
    "import dtale"
   ]
  },
  {
   "cell_type": "code",
   "execution_count": 2,
   "id": "45b68986-bf4a-449c-b9c6-e70fd31431d3",
   "metadata": {},
   "outputs": [
    {
     "name": "stderr",
     "output_type": "stream",
     "text": [
      "C:\\Users\\r\\AppData\\Local\\Temp\\ipykernel_27344\\1316091695.py:7: DtypeWarning:\n",
      "\n",
      "Columns (8,9,10,11) have mixed types. Specify dtype option on import or set low_memory=False.\n",
      "\n"
     ]
    }
   ],
   "source": [
    "import pandas as pd\n",
    "\n",
    "# Use a raw string for the file path\n",
    "file_path = r\"O:\\cyclistic\\consolidate\\New folder\\2024\\combined.csv\"\n",
    "\n",
    "# Read the CSV file into a DataFrame\n",
    "df = pd.read_csv(file_path)\n"
   ]
  },
  {
   "cell_type": "code",
   "execution_count": 3,
   "id": "87443a46-f575-4e4d-b60f-6fe80b80d21f",
   "metadata": {},
   "outputs": [],
   "source": [
    "# !pip install dtale\n",
    "# !pip install pymysql\n",
    "# !pip install pandas-profiling\n",
    "# !pip install sweetviz\n",
    "# !pip install eda-report"
   ]
  },
  {
   "cell_type": "code",
   "execution_count": 4,
   "id": "3fec2e11-f8b6-4592-a24b-47b7b6a542c8",
   "metadata": {},
   "outputs": [],
   "source": [
    "# Select only numeric columns\n",
    "numeric_df = df.select_dtypes(include=[float, int])\n",
    "\n",
    "# Calculate correlation matrix\n",
    "corr_matrix = numeric_df.corr()"
   ]
  },
  {
   "cell_type": "code",
   "execution_count": 5,
   "id": "604726d9-d15c-4c37-a397-984f113d1d56",
   "metadata": {},
   "outputs": [
    {
     "data": {
      "text/html": [
       "<div>\n",
       "<style scoped>\n",
       "    .dataframe tbody tr th:only-of-type {\n",
       "        vertical-align: middle;\n",
       "    }\n",
       "\n",
       "    .dataframe tbody tr th {\n",
       "        vertical-align: top;\n",
       "    }\n",
       "\n",
       "    .dataframe thead th {\n",
       "        text-align: right;\n",
       "    }\n",
       "</style>\n",
       "<table border=\"1\" class=\"dataframe\">\n",
       "  <thead>\n",
       "    <tr style=\"text-align: right;\">\n",
       "      <th></th>\n",
       "    </tr>\n",
       "  </thead>\n",
       "  <tbody>\n",
       "  </tbody>\n",
       "</table>\n",
       "</div>"
      ],
      "text/plain": [
       "Empty DataFrame\n",
       "Columns: []\n",
       "Index: []"
      ]
     },
     "execution_count": 5,
     "metadata": {},
     "output_type": "execute_result"
    }
   ],
   "source": [
    "corr_matrix"
   ]
  },
  {
   "cell_type": "code",
   "execution_count": 6,
   "id": "126be212-bdd5-43c1-8594-85c64c9a42cb",
   "metadata": {},
   "outputs": [
    {
     "data": {
      "text/html": [
       "<div>\n",
       "<style scoped>\n",
       "    .dataframe tbody tr th:only-of-type {\n",
       "        vertical-align: middle;\n",
       "    }\n",
       "\n",
       "    .dataframe tbody tr th {\n",
       "        vertical-align: top;\n",
       "    }\n",
       "\n",
       "    .dataframe thead th {\n",
       "        text-align: right;\n",
       "    }\n",
       "</style>\n",
       "<table border=\"1\" class=\"dataframe\">\n",
       "  <thead>\n",
       "    <tr style=\"text-align: right;\">\n",
       "      <th></th>\n",
       "      <th>ride_id</th>\n",
       "      <th>rideable_type</th>\n",
       "      <th>started_at</th>\n",
       "      <th>ended_at</th>\n",
       "      <th>start_station_name</th>\n",
       "      <th>start_station_id</th>\n",
       "      <th>end_station_name</th>\n",
       "      <th>end_station_id</th>\n",
       "      <th>start_lat</th>\n",
       "      <th>start_lng</th>\n",
       "      <th>end_lat</th>\n",
       "      <th>end_lng</th>\n",
       "      <th>member_casual</th>\n",
       "    </tr>\n",
       "  </thead>\n",
       "  <tbody>\n",
       "    <tr>\n",
       "      <th>3153926</th>\n",
       "      <td>\u001a</td>\n",
       "      <td>NaN</td>\n",
       "      <td>NaN</td>\n",
       "      <td>NaN</td>\n",
       "      <td>NaN</td>\n",
       "      <td>NaN</td>\n",
       "      <td>NaN</td>\n",
       "      <td>NaN</td>\n",
       "      <td>NaN</td>\n",
       "      <td>NaN</td>\n",
       "      <td>NaN</td>\n",
       "      <td>NaN</td>\n",
       "      <td>NaN</td>\n",
       "    </tr>\n",
       "  </tbody>\n",
       "</table>\n",
       "</div>"
      ],
      "text/plain": [
       "        ride_id rideable_type started_at ended_at start_station_name  \\\n",
       "3153926       \u001a           NaN        NaN      NaN                NaN   \n",
       "\n",
       "        start_station_id end_station_name end_station_id start_lat start_lng  \\\n",
       "3153926              NaN              NaN            NaN       NaN       NaN   \n",
       "\n",
       "        end_lat end_lng member_casual  \n",
       "3153926     NaN     NaN           NaN  "
      ]
     },
     "execution_count": 6,
     "metadata": {},
     "output_type": "execute_result"
    }
   ],
   "source": [
    "df[df['started_at'].isna()]"
   ]
  },
  {
   "cell_type": "code",
   "execution_count": 7,
   "id": "664f321d-5f33-4c78-9446-7d798cc4c7aa",
   "metadata": {},
   "outputs": [
    {
     "data": {
      "text/html": [
       "<div>\n",
       "<style scoped>\n",
       "    .dataframe tbody tr th:only-of-type {\n",
       "        vertical-align: middle;\n",
       "    }\n",
       "\n",
       "    .dataframe tbody tr th {\n",
       "        vertical-align: top;\n",
       "    }\n",
       "\n",
       "    .dataframe thead th {\n",
       "        text-align: right;\n",
       "    }\n",
       "</style>\n",
       "<table border=\"1\" class=\"dataframe\">\n",
       "  <thead>\n",
       "    <tr style=\"text-align: right;\">\n",
       "      <th></th>\n",
       "      <th>ride_id</th>\n",
       "      <th>rideable_type</th>\n",
       "      <th>started_at</th>\n",
       "      <th>ended_at</th>\n",
       "      <th>start_station_name</th>\n",
       "      <th>start_station_id</th>\n",
       "      <th>end_station_name</th>\n",
       "      <th>end_station_id</th>\n",
       "      <th>start_lat</th>\n",
       "      <th>start_lng</th>\n",
       "      <th>end_lat</th>\n",
       "      <th>end_lng</th>\n",
       "      <th>member_casual</th>\n",
       "    </tr>\n",
       "  </thead>\n",
       "  <tbody>\n",
       "    <tr>\n",
       "      <th>3153926</th>\n",
       "      <td>\u001a</td>\n",
       "      <td>NaN</td>\n",
       "      <td>NaN</td>\n",
       "      <td>NaN</td>\n",
       "      <td>NaN</td>\n",
       "      <td>NaN</td>\n",
       "      <td>NaN</td>\n",
       "      <td>NaN</td>\n",
       "      <td>NaN</td>\n",
       "      <td>NaN</td>\n",
       "      <td>NaN</td>\n",
       "      <td>NaN</td>\n",
       "      <td>NaN</td>\n",
       "    </tr>\n",
       "  </tbody>\n",
       "</table>\n",
       "</div>"
      ],
      "text/plain": [
       "        ride_id rideable_type started_at ended_at start_station_name  \\\n",
       "3153926       \u001a           NaN        NaN      NaN                NaN   \n",
       "\n",
       "        start_station_id end_station_name end_station_id start_lat start_lng  \\\n",
       "3153926              NaN              NaN            NaN       NaN       NaN   \n",
       "\n",
       "        end_lat end_lng member_casual  \n",
       "3153926     NaN     NaN           NaN  "
      ]
     },
     "execution_count": 7,
     "metadata": {},
     "output_type": "execute_result"
    }
   ],
   "source": [
    "df[df['ended_at'].isna()]"
   ]
  },
  {
   "cell_type": "code",
   "execution_count": 8,
   "id": "3f6d2172-4920-4ae0-8cd1-8e25f4778a57",
   "metadata": {},
   "outputs": [],
   "source": [
    "# Delete records where 'started_at' is NaT\n",
    "df = df[df['started_at'].notna()]"
   ]
  },
  {
   "cell_type": "code",
   "execution_count": 9,
   "id": "1adc8049-8747-4440-8295-81e41ffe188b",
   "metadata": {},
   "outputs": [
    {
     "data": {
      "text/plain": [
       "0    19\n",
       "1    19\n",
       "2    19\n",
       "3    19\n",
       "4    19\n",
       "5    19\n",
       "6    19\n",
       "7    19\n",
       "8    19\n",
       "9    19\n",
       "Name: started_at, dtype: int64"
      ]
     },
     "execution_count": 9,
     "metadata": {},
     "output_type": "execute_result"
    }
   ],
   "source": [
    "df['started_at'].str.len()[:10]"
   ]
  },
  {
   "cell_type": "code",
   "execution_count": 10,
   "id": "90b6a23f-af19-44f1-9b3c-eb4ab4d52a12",
   "metadata": {},
   "outputs": [],
   "source": [
    "# Create masks for the two date formats\n",
    "mask_format1 = df['started_at'].str.contains('-')  # YYYY-MM-DD format\n",
    "mask_format2 = ~mask_format1                      # MM/DD/YYYY format\n",
    "\n",
    "# Apply the correct date format to each mask\n",
    "df.loc[mask_format1, 'started_at_converted'] = pd.to_datetime(df.loc[mask_format1, 'started_at'], format='%Y-%m-%d %H:%M:%S', errors='coerce')\n",
    "df.loc[mask_format2, 'started_at_converted'] = pd.to_datetime(df.loc[mask_format2, 'started_at'], format='%m/%d/%Y %H:%M', errors='coerce')\n",
    "\n",
    "\n"
   ]
  },
  {
   "cell_type": "code",
   "execution_count": 11,
   "id": "73b5bec5-7d7f-4c5b-8363-42e2456bd09b",
   "metadata": {},
   "outputs": [],
   "source": [
    "# Apply the correct date format to each mask\n",
    "df.loc[mask_format1, 'ended_at_converted'] = pd.to_datetime(df.loc[mask_format1, 'ended_at'], format='%Y-%m-%d %H:%M:%S', errors='coerce')\n",
    "df.loc[mask_format2, 'ended_at_converted'] = pd.to_datetime(df.loc[mask_format2, 'ended_at'], format='%m/%d/%Y %H:%M', errors='coerce')"
   ]
  },
  {
   "cell_type": "code",
   "execution_count": 13,
   "id": "e4e96a98-18ca-4736-865d-45d06b06fd6b",
   "metadata": {},
   "outputs": [
    {
     "data": {
      "text/plain": [
       "1459684"
      ]
     },
     "execution_count": 13,
     "metadata": {},
     "output_type": "execute_result"
    }
   ],
   "source": [
    "#no proper data and timestamp data count\n",
    "df['started_at_converted'].isna().sum()"
   ]
  },
  {
   "cell_type": "code",
   "execution_count": 14,
   "id": "63a68312-1fcc-48f0-adec-dd656b56c4e0",
   "metadata": {},
   "outputs": [
    {
     "data": {
      "text/html": [
       "<div>\n",
       "<style scoped>\n",
       "    .dataframe tbody tr th:only-of-type {\n",
       "        vertical-align: middle;\n",
       "    }\n",
       "\n",
       "    .dataframe tbody tr th {\n",
       "        vertical-align: top;\n",
       "    }\n",
       "\n",
       "    .dataframe thead th {\n",
       "        text-align: right;\n",
       "    }\n",
       "</style>\n",
       "<table border=\"1\" class=\"dataframe\">\n",
       "  <thead>\n",
       "    <tr style=\"text-align: right;\">\n",
       "      <th></th>\n",
       "      <th>ride_id</th>\n",
       "      <th>rideable_type</th>\n",
       "      <th>started_at</th>\n",
       "      <th>ended_at</th>\n",
       "      <th>start_station_name</th>\n",
       "      <th>start_station_id</th>\n",
       "      <th>end_station_name</th>\n",
       "      <th>end_station_id</th>\n",
       "      <th>start_lat</th>\n",
       "      <th>start_lng</th>\n",
       "      <th>end_lat</th>\n",
       "      <th>end_lng</th>\n",
       "      <th>member_casual</th>\n",
       "      <th>started_at_converted</th>\n",
       "      <th>ended_at_converted</th>\n",
       "    </tr>\n",
       "  </thead>\n",
       "  <tbody>\n",
       "  </tbody>\n",
       "</table>\n",
       "</div>"
      ],
      "text/plain": [
       "Empty DataFrame\n",
       "Columns: [ride_id, rideable_type, started_at, ended_at, start_station_name, start_station_id, end_station_name, end_station_id, start_lat, start_lng, end_lat, end_lng, member_casual, started_at_converted, ended_at_converted]\n",
       "Index: []"
      ]
     },
     "execution_count": 14,
     "metadata": {},
     "output_type": "execute_result"
    }
   ],
   "source": [
    "#sanity check\n",
    "df[(df['started_at_converted'].isna()) & (df['started_at'].str.len() >= 11)]"
   ]
  },
  {
   "cell_type": "code",
   "execution_count": 15,
   "id": "2335f4d2-fa26-4ac8-852a-0c87356d3a15",
   "metadata": {},
   "outputs": [
    {
     "data": {
      "text/plain": [
       "3153926"
      ]
     },
     "execution_count": 15,
     "metadata": {},
     "output_type": "execute_result"
    }
   ],
   "source": [
    "len(df)"
   ]
  },
  {
   "cell_type": "code",
   "execution_count": 16,
   "id": "5bb3a35c-ade3-4bb7-affd-e847453f3300",
   "metadata": {},
   "outputs": [],
   "source": [
    "df = df[df['started_at_converted'].notna()] "
   ]
  },
  {
   "cell_type": "code",
   "execution_count": 17,
   "id": "e0e5cabb-d536-4334-854e-a3282638f364",
   "metadata": {},
   "outputs": [
    {
     "data": {
      "text/plain": [
       "1694242"
      ]
     },
     "execution_count": 17,
     "metadata": {},
     "output_type": "execute_result"
    }
   ],
   "source": [
    "#after cleaning data length\n",
    "len(df)"
   ]
  },
  {
   "cell_type": "code",
   "execution_count": 18,
   "id": "719d67ec-0e11-4268-8b0d-856e75db93a6",
   "metadata": {},
   "outputs": [
    {
     "data": {
      "text/plain": [
       "ride_id                         object\n",
       "rideable_type                   object\n",
       "started_at                      object\n",
       "ended_at                        object\n",
       "start_station_name              object\n",
       "start_station_id                object\n",
       "end_station_name                object\n",
       "end_station_id                  object\n",
       "start_lat                       object\n",
       "start_lng                       object\n",
       "end_lat                         object\n",
       "end_lng                         object\n",
       "member_casual                   object\n",
       "started_at_converted    datetime64[ns]\n",
       "ended_at_converted      datetime64[ns]\n",
       "dtype: object"
      ]
     },
     "execution_count": 18,
     "metadata": {},
     "output_type": "execute_result"
    }
   ],
   "source": [
    "df.dtypes"
   ]
  },
  {
   "cell_type": "code",
   "execution_count": 19,
   "id": "4699a454-66aa-455f-bd5a-d7236aa15c91",
   "metadata": {},
   "outputs": [],
   "source": [
    "#extracting day and month details\n",
    "df['month'] = df['started_at_converted'].dt.month_name()\n",
    "df['week_day'] = df['started_at_converted'].dt.day_name()\n",
    "# Calculate the difference in minutes\n",
    "df['trip_duration_minutes'] = (df['ended_at_converted'] - df['started_at_converted']).dt.total_seconds() / 60"
   ]
  },
  {
   "cell_type": "code",
   "execution_count": 20,
   "id": "f9172932-08ae-44f4-bd8b-09fb5d775fb8",
   "metadata": {},
   "outputs": [],
   "source": [
    "#adding hour of the day and year\n",
    "\n",
    "df['year'] = df['started_at_converted'].dt.year\n",
    "df['HourOftheDay'] = df['started_at_converted'].dt.hour"
   ]
  },
  {
   "cell_type": "code",
   "execution_count": 21,
   "id": "d801ac92-e0e7-450d-ac5e-852987b67d59",
   "metadata": {},
   "outputs": [
    {
     "data": {
      "text/html": [
       "<div>\n",
       "<style scoped>\n",
       "    .dataframe tbody tr th:only-of-type {\n",
       "        vertical-align: middle;\n",
       "    }\n",
       "\n",
       "    .dataframe tbody tr th {\n",
       "        vertical-align: top;\n",
       "    }\n",
       "\n",
       "    .dataframe thead th {\n",
       "        text-align: right;\n",
       "    }\n",
       "</style>\n",
       "<table border=\"1\" class=\"dataframe\">\n",
       "  <thead>\n",
       "    <tr style=\"text-align: right;\">\n",
       "      <th></th>\n",
       "      <th>year</th>\n",
       "      <th>HourOftheDay</th>\n",
       "    </tr>\n",
       "  </thead>\n",
       "  <tbody>\n",
       "    <tr>\n",
       "      <th>0</th>\n",
       "      <td>2024</td>\n",
       "      <td>15</td>\n",
       "    </tr>\n",
       "    <tr>\n",
       "      <th>1</th>\n",
       "      <td>2024</td>\n",
       "      <td>15</td>\n",
       "    </tr>\n",
       "    <tr>\n",
       "      <th>2</th>\n",
       "      <td>2024</td>\n",
       "      <td>12</td>\n",
       "    </tr>\n",
       "    <tr>\n",
       "      <th>3</th>\n",
       "      <td>2024</td>\n",
       "      <td>16</td>\n",
       "    </tr>\n",
       "    <tr>\n",
       "      <th>4</th>\n",
       "      <td>2024</td>\n",
       "      <td>5</td>\n",
       "    </tr>\n",
       "    <tr>\n",
       "      <th>...</th>\n",
       "      <td>...</td>\n",
       "      <td>...</td>\n",
       "    </tr>\n",
       "    <tr>\n",
       "      <th>1694238</th>\n",
       "      <td>2024</td>\n",
       "      <td>16</td>\n",
       "    </tr>\n",
       "    <tr>\n",
       "      <th>1694239</th>\n",
       "      <td>2024</td>\n",
       "      <td>5</td>\n",
       "    </tr>\n",
       "    <tr>\n",
       "      <th>1694240</th>\n",
       "      <td>2024</td>\n",
       "      <td>18</td>\n",
       "    </tr>\n",
       "    <tr>\n",
       "      <th>1694241</th>\n",
       "      <td>2024</td>\n",
       "      <td>14</td>\n",
       "    </tr>\n",
       "    <tr>\n",
       "      <th>1694242</th>\n",
       "      <td>2024</td>\n",
       "      <td>18</td>\n",
       "    </tr>\n",
       "  </tbody>\n",
       "</table>\n",
       "<p>1694242 rows × 2 columns</p>\n",
       "</div>"
      ],
      "text/plain": [
       "         year  HourOftheDay\n",
       "0        2024            15\n",
       "1        2024            15\n",
       "2        2024            12\n",
       "3        2024            16\n",
       "4        2024             5\n",
       "...       ...           ...\n",
       "1694238  2024            16\n",
       "1694239  2024             5\n",
       "1694240  2024            18\n",
       "1694241  2024            14\n",
       "1694242  2024            18\n",
       "\n",
       "[1694242 rows x 2 columns]"
      ]
     },
     "execution_count": 21,
     "metadata": {},
     "output_type": "execute_result"
    }
   ],
   "source": [
    "df[['year', 'HourOftheDay']]"
   ]
  },
  {
   "cell_type": "code",
   "execution_count": null,
   "id": "c97c89e7-3f9e-4e1d-aac5-035572c0e55d",
   "metadata": {},
   "outputs": [],
   "source": []
  },
  {
   "cell_type": "code",
   "execution_count": 27,
   "id": "13a8e4c5-ea9a-4e5c-b526-ccec934c1ed1",
   "metadata": {},
   "outputs": [
    {
     "data": {
      "text/plain": [
       "0    2024\n",
       "1    2024\n",
       "2    2024\n",
       "3    2024\n",
       "4    2024\n",
       "5    2024\n",
       "6    2024\n",
       "7    2024\n",
       "8    2024\n",
       "9    2024\n",
       "Name: year, dtype: int32"
      ]
     },
     "execution_count": 27,
     "metadata": {},
     "output_type": "execute_result"
    }
   ],
   "source": [
    "\n",
    "df['year'][:10]"
   ]
  },
  {
   "cell_type": "code",
   "execution_count": null,
   "id": "1c87c838-64b7-4464-a4fb-bc82819e8323",
   "metadata": {},
   "outputs": [],
   "source": []
  },
  {
   "cell_type": "code",
   "execution_count": 30,
   "id": "0a0ce600-bc20-4028-960d-38d89d70a317",
   "metadata": {},
   "outputs": [],
   "source": [
    "df['year'] = df['year'].astype(str)"
   ]
  },
  {
   "cell_type": "code",
   "execution_count": 32,
   "id": "8ddcc9e2-38c6-40de-a8ba-92f510774a87",
   "metadata": {},
   "outputs": [
    {
     "data": {
      "text/html": [
       "\n",
       "        <iframe\n",
       "            width=\"100%\"\n",
       "            height=\"475\"\n",
       "            src=\"http://r-PC:40000/dtale/iframe/1\"\n",
       "            frameborder=\"0\"\n",
       "            allowfullscreen\n",
       "            \n",
       "        ></iframe>\n",
       "        "
      ],
      "text/plain": [
       "<IPython.lib.display.IFrame at 0x20bb6c2e090>"
      ]
     },
     "metadata": {},
     "output_type": "display_data"
    },
    {
     "data": {
      "text/plain": []
     },
     "execution_count": 32,
     "metadata": {},
     "output_type": "execute_result"
    }
   ],
   "source": [
    "dtale.show(df)"
   ]
  },
  {
   "cell_type": "code",
   "execution_count": null,
   "id": "d2ef47da-aadf-4d14-803c-cbeb61036b7c",
   "metadata": {},
   "outputs": [],
   "source": [
    "len(df)"
   ]
  },
  {
   "cell_type": "code",
   "execution_count": null,
   "id": "e1038379-b349-456e-ac30-95abc59a9374",
   "metadata": {},
   "outputs": [],
   "source": [
    "df['year'].nunique"
   ]
  },
  {
   "cell_type": "code",
   "execution_count": null,
   "id": "b2a9f101-a4b6-42d3-b375-8f0a3b19aa08",
   "metadata": {},
   "outputs": [],
   "source": [
    "#summary with valid data"
   ]
  },
  {
   "cell_type": "code",
   "execution_count": 52,
   "id": "142f1328-ee19-4a70-a5d8-2038b78cbca5",
   "metadata": {},
   "outputs": [
    {
     "data": {
      "text/plain": [
       "1694241"
      ]
     },
     "execution_count": 52,
     "metadata": {},
     "output_type": "execute_result"
    }
   ],
   "source": [
    "total_trips = df['ride_id'].nunique()\n",
    "total_trips"
   ]
  },
  {
   "cell_type": "code",
   "execution_count": 48,
   "id": "44df8432-0a82-4dbc-a808-d9ba244d39ed",
   "metadata": {},
   "outputs": [],
   "source": [
    "avg_trip_length = df['trip_duration_minutes'].mean()"
   ]
  },
  {
   "cell_type": "code",
   "execution_count": 50,
   "id": "74b49a4a-9165-44b8-9049-a00a63253659",
   "metadata": {},
   "outputs": [
    {
     "data": {
      "text/plain": [
       "16.97595513706621"
      ]
     },
     "execution_count": 50,
     "metadata": {},
     "output_type": "execute_result"
    }
   ],
   "source": [
    "avg_trip_length"
   ]
  },
  {
   "cell_type": "code",
   "execution_count": 54,
   "id": "9df9fc91-4b1f-43e4-a5ac-e28c3b5d73ea",
   "metadata": {},
   "outputs": [
    {
     "data": {
      "text/plain": [
       "Index(['ride_id', 'rideable_type', 'started_at', 'ended_at',\n",
       "       'start_station_name', 'start_station_id', 'end_station_name',\n",
       "       'end_station_id', 'start_lat', 'start_lng', 'end_lat', 'end_lng',\n",
       "       'member_casual', 'started_at_converted', 'ended_at_converted', 'month',\n",
       "       'week_day', 'trip_duration_minutes', 'year', 'HourOftheDay'],\n",
       "      dtype='object')"
      ]
     },
     "execution_count": 54,
     "metadata": {},
     "output_type": "execute_result"
    }
   ],
   "source": [
    "df.columns"
   ]
  },
  {
   "cell_type": "code",
   "execution_count": null,
   "id": "e9cbcbef-60dc-4e7f-abbd-10aec71932b6",
   "metadata": {},
   "outputs": [],
   "source": []
  },
  {
   "cell_type": "code",
   "execution_count": null,
   "id": "50b33e8e-7a9e-4af1-9b56-c71f120ea93b",
   "metadata": {},
   "outputs": [],
   "source": []
  }
 ],
 "metadata": {
  "kernelspec": {
   "display_name": "Python 3 (ipykernel)",
   "language": "python",
   "name": "python3"
  },
  "language_info": {
   "codemirror_mode": {
    "name": "ipython",
    "version": 3
   },
   "file_extension": ".py",
   "mimetype": "text/x-python",
   "name": "python",
   "nbconvert_exporter": "python",
   "pygments_lexer": "ipython3",
   "version": "3.12.4"
  }
 },
 "nbformat": 4,
 "nbformat_minor": 5
}
